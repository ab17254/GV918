{
  "nbformat": 4,
  "nbformat_minor": 0,
  "metadata": {
    "colab": {
      "name": "Assignment-1-part2-demo.ipynb",
      "provenance": [],
      "collapsed_sections": [],
      "toc_visible": true
    },
    "kernelspec": {
      "name": "python3",
      "display_name": "Python 3"
    }
  },
  "cells": [
    {
      "cell_type": "markdown",
      "metadata": {
        "id": "9G0w-U1s4XmX"
      },
      "source": [
        "# Assignment Instruction\n",
        "\n",
        "This is part 2 of assignment 1. It amounts to 60 percent of the grade.\n",
        "\n",
        "In this part of the assignment, you will explore covid-19 data from the US. \n",
        "\n",
        "The dataset is:\n",
        "\n",
        "1. At the county level\n",
        "2. Including deaths and case figures\n",
        "3. On 1 Oct 2020.\n",
        "\n",
        "\"This dataset contains daily updated number of reported cases & deaths in the US on the state and county level, as provided by the Johns Hopkins University.\" It is downloaded from https://www.kaggle.com/headsortails/covid19-us-county-jhu-data-demographics\n",
        "\n",
        "In addition, you will use two additional datasets regarding the demography of the counties and political factors.\n",
        "\n",
        "1. County demography\n",
        "    - https://www.kaggle.com/muonneutrino/us-census-demographic-data\n",
        "2. The county-level outcomes of the 2016 US Presidential Election\n",
        "    - https://www.kaggle.com/stevepalley/2016uspresidentialvotebycounty\n",
        "\n",
        "The data files are found in `Data` directory of this repository. You can download the files, and upload.\n",
        "\n",
        "\n",
        "\n"
      ]
    },
    {
      "cell_type": "code",
      "metadata": {
        "id": "SIT5cXfFF5ON"
      },
      "source": [
        "from google.colab import drive\n",
        "drive.mount('/content/drive')"
      ],
      "execution_count": null,
      "outputs": []
    },
    {
      "cell_type": "markdown",
      "metadata": {
        "id": "zbQeVS_bWqI0"
      },
      "source": [
        "# Import packages"
      ]
    },
    {
      "cell_type": "code",
      "metadata": {
        "id": "eMe0BPSg1vsw"
      },
      "source": [
        "import numpy as np\n",
        "import pandas as pd"
      ],
      "execution_count": null,
      "outputs": []
    },
    {
      "cell_type": "markdown",
      "metadata": {
        "id": "-x2FXkBjcPix"
      },
      "source": [
        "# Covid data (15 percent)"
      ]
    },
    {
      "cell_type": "markdown",
      "metadata": {
        "id": "ouLV8ufdWt1j"
      },
      "source": [
        "## Read data\n",
        "\n",
        "Open `covid_us_county_oct20.csv`, and print the first 10 rows"
      ]
    },
    {
      "cell_type": "code",
      "metadata": {
        "id": "pOTBwez7ccyl"
      },
      "source": [
        "df = pd.read_csv(\"/content/drive/My Drive/data_gv918/Data/covid_us_county_oct20.csv\")\n",
        "df.head(10)"
      ],
      "execution_count": null,
      "outputs": []
    },
    {
      "cell_type": "markdown",
      "metadata": {
        "id": "wxkCjgq7W6w1"
      },
      "source": [
        "## Answer the following questions\n",
        "\n",
        "1. How many rows in the dataset?\n",
        "2. What's the highest count of cases? In which county?\n",
        "3. Count the number of counties in each US State\n",
        "4. Calculate the following numbers by US States\n",
        "    - Cases\n",
        "    - Deaths"
      ]
    },
    {
      "cell_type": "code",
      "metadata": {
        "id": "VoN1dhgE2QOV"
      },
      "source": [
        "df.shape"
      ],
      "execution_count": null,
      "outputs": []
    },
    {
      "cell_type": "code",
      "metadata": {
        "id": "IPzVYp9oCBH0"
      },
      "source": [
        "df['cases'].max()\n"
      ],
      "execution_count": null,
      "outputs": []
    },
    {
      "cell_type": "code",
      "metadata": {
        "id": "L0xIVR5x26NB"
      },
      "source": [
        "df[df['cases'] == df['cases'].max()]"
      ],
      "execution_count": null,
      "outputs": []
    },
    {
      "cell_type": "code",
      "metadata": {
        "id": "PfseA5bqCTBs"
      },
      "source": [
        "\n",
        "df['state'].value_counts()"
      ],
      "execution_count": null,
      "outputs": []
    },
    {
      "cell_type": "code",
      "metadata": {
        "id": "qTlS9DRk3Rmr"
      },
      "source": [
        "df[df['fips'] < 80000]['state'].value_counts()"
      ],
      "execution_count": null,
      "outputs": []
    },
    {
      "cell_type": "code",
      "metadata": {
        "id": "CDZz8qeaCuYo"
      },
      "source": [
        "df[['state', 'deaths', 'cases']].groupby(by = 'state').sum().sort_values(by = 'deaths', ascending = False)"
      ],
      "execution_count": null,
      "outputs": []
    },
    {
      "cell_type": "markdown",
      "metadata": {
        "id": "w2K90g-4dfGt"
      },
      "source": [
        "# Working with the demography data (20 percent)\n",
        "\n",
        "\n",
        "The data (`acs2017_county_data.csv`) is coming from https://www.kaggle.com/muonneutrino/us-census-demographic-data\n",
        "\n",
        "Read the data description on the website, and answer the following. \n",
        "\n",
        "\n"
      ]
    },
    {
      "cell_type": "markdown",
      "metadata": {
        "id": "5A6OoeNCfrBq"
      },
      "source": [
        "## Read the data\n",
        "\n",
        "- Read the data and print the first 5 rows"
      ]
    },
    {
      "cell_type": "code",
      "metadata": {
        "id": "r-5ajuZrqixq"
      },
      "source": [
        "df_demo = pd.read_csv(\"/content/drive/My Drive/data_gv918/Data/acs2017_county_data.csv\")\n",
        "\n",
        "df_demo.head(5)"
      ],
      "execution_count": null,
      "outputs": []
    },
    {
      "cell_type": "markdown",
      "metadata": {
        "id": "Srd98mZIfyZV"
      },
      "source": [
        "## Explore the data\n",
        "\n",
        "- How many rows in the data?\n",
        "- Which column do you use to merge this demography data with Covid-19 data?\n",
        "- Which columns to drop from the demography dataset (these are potentially duplicated in covid 19)? "
      ]
    },
    {
      "cell_type": "code",
      "metadata": {
        "id": "QcQ2xGwwgmUc"
      },
      "source": [
        "df_demo.shape"
      ],
      "execution_count": null,
      "outputs": []
    },
    {
      "cell_type": "code",
      "metadata": {
        "id": "oDba0J58HCBu"
      },
      "source": [
        "df_demo.rename(columns = {'CountyId': 'fips'}, inplace=True)"
      ],
      "execution_count": null,
      "outputs": []
    },
    {
      "cell_type": "code",
      "metadata": {
        "id": "yU0P6dxcHnGS"
      },
      "source": [
        "df_demo.drop(['State', 'County'], axis = 1, inplace = True)"
      ],
      "execution_count": null,
      "outputs": []
    },
    {
      "cell_type": "markdown",
      "metadata": {
        "id": "cCRDN5j3fyLo"
      },
      "source": [
        "## Merge the data\n",
        "\n",
        "- Merge two data frames\n",
        "- Answer the following questions\n",
        "  - Calculate the deaths/cases per 1000 population\n",
        "  - Find the maximum of highest deaths/cases per 1000 population and their county names \n",
        "- Aggregate the data at the state level and find the following\n",
        "  - Calculate the number of total cases/deaths per 1000 population\n",
        "  - Which state had the highest cases/deaths, how many cases/deaths?\n"
      ]
    },
    {
      "cell_type": "code",
      "metadata": {
        "id": "mEXDJhh2hkUc"
      },
      "source": [
        "df_merged = df.merge(df_demo, on = 'fips')\n",
        "df_merged.head()"
      ],
      "execution_count": null,
      "outputs": []
    },
    {
      "cell_type": "code",
      "metadata": {
        "id": "MmkKAxK4IU0w"
      },
      "source": [
        "df_merged['case_1k'] = df_merged['cases'] / df_merged['TotalPop'] * 1000\n",
        "df_merged['death_1k'] = df_merged['deaths'] / df_merged['TotalPop'] * 1000\n"
      ],
      "execution_count": null,
      "outputs": []
    },
    {
      "cell_type": "code",
      "metadata": {
        "id": "e4-C_ud1I-Co"
      },
      "source": [
        "df_merged.sort_values('case_1k', ascending=False).head(1)\n"
      ],
      "execution_count": null,
      "outputs": []
    },
    {
      "cell_type": "code",
      "metadata": {
        "id": "3WgSVrViI_aq"
      },
      "source": [
        "df_merged.sort_values('death_1k', ascending=False).head(1)"
      ],
      "execution_count": null,
      "outputs": []
    },
    {
      "cell_type": "markdown",
      "metadata": {
        "id": "R1gbodJ-hkzo"
      },
      "source": [
        "## Data exploration\n",
        "\n",
        "- Limit the data to the counties with more than 1000 people \n",
        "- Several variables are expected to be correlated with the high contraction rate of Covid-19, such as the racial composition of the county or household income. Check the correlation between these variables and cases/deaths rates. What do you find? Do you find any strong correlations?\n"
      ]
    },
    {
      "cell_type": "code",
      "metadata": {
        "id": "Rh8j3lWujPXL"
      },
      "source": [
        "df_merged_sub = df_merged[df_merged['TotalPop'] > 1000]\n",
        "df_merged_sub.shape"
      ],
      "execution_count": null,
      "outputs": []
    },
    {
      "cell_type": "code",
      "metadata": {
        "id": "CT38SI0_JhEz"
      },
      "source": [
        "df_merged_sub[['case_1k', 'death_1k', 'White', 'Black', 'IncomePerCap', 'Poverty']].corr()"
      ],
      "execution_count": null,
      "outputs": []
    },
    {
      "cell_type": "markdown",
      "metadata": {
        "id": "6TYDi0iYjegV"
      },
      "source": [
        "# Presidential voting in 2016 (15 percent)"
      ]
    },
    {
      "cell_type": "markdown",
      "metadata": {
        "id": "0RanTLxNjkDV"
      },
      "source": [
        "It is well-known that there is a partisan divide in the US citizens' perceptions about the risk of Covid-19 and their response to it (e.g. https://www.pnas.org/content/117/39/24144, but there are numerous academic/journalistic articles you can find). In this section, you will check whether the votes in the 2016 US Presidential Election are correlated with the case/death figures."
      ]
    },
    {
      "cell_type": "markdown",
      "metadata": {
        "id": "bpHIRPdolXkm"
      },
      "source": [
        ""
      ]
    },
    {
      "cell_type": "markdown",
      "metadata": {
        "id": "NHIM_etAlYDm"
      },
      "source": [
        "The data (`pres16results.csv`) is coming from https://www.kaggle.com/stevepalley/2016uspresidentialvotebycounty\n",
        "\n",
        "\n"
      ]
    },
    {
      "cell_type": "markdown",
      "metadata": {
        "id": "id0_YjTZk8cg"
      },
      "source": [
        "## Read the data and reshape/filter\n",
        "\n",
        "- Read the data\n",
        "- Reshape/filter the data\n",
        "    - this data has a long format\n",
        "    - you need to conduct data manipulation before the merging\n",
        "    - you can either drop some rows (e.g. keep only Trump rows) or make it to the wide format\n"
      ]
    },
    {
      "cell_type": "code",
      "metadata": {
        "id": "CEjNJuAXrhGP"
      },
      "source": [
        "df_pres = pd.read_csv(\"/content/drive/My Drive/data_gv918/Data/pres16results.csv\")\n",
        "#df_pres.head()"
      ],
      "execution_count": null,
      "outputs": []
    },
    {
      "cell_type": "code",
      "metadata": {
        "id": "9z8w7vPbKc6X"
      },
      "source": [
        "df_pres_trump = df_pres[df_pres['cand'] == 'Donald Trump'][['fips','pct']].rename({'pct':'pct_trump'}, axis = 1)\n",
        "\n",
        "df_pres_trump['fips'] = pd.to_numeric(df_pres_trump['fips'], errors = 'coerce')\n",
        "df_pres_trump.dropna()"
      ],
      "execution_count": null,
      "outputs": []
    },
    {
      "cell_type": "markdown",
      "metadata": {
        "id": "Oro2UO0smnwi"
      },
      "source": [
        "## Merge the data and explore the relations\n",
        "\n",
        "- Merge the presidential election results with the main data\n",
        "- Explore the relations between Trump (or Clinton) vote percentage and Covid-19 variables. What do you find?"
      ]
    },
    {
      "cell_type": "code",
      "metadata": {
        "id": "atue550imnJV"
      },
      "source": [
        "df_full = df_merged.merge(df_pres_trump, on = 'fips')\n",
        "df_full.head()"
      ],
      "execution_count": null,
      "outputs": []
    },
    {
      "cell_type": "code",
      "metadata": {
        "id": "fenEV4tN6Aj8"
      },
      "source": [
        "df_full.shape"
      ],
      "execution_count": null,
      "outputs": []
    },
    {
      "cell_type": "code",
      "metadata": {
        "id": "24lVXzFhMk6z"
      },
      "source": [
        "df_full[['case_1k', 'death_1k', 'White', 'Black', 'IncomePerCap', 'Poverty', 'pct_trump']].corr()"
      ],
      "execution_count": null,
      "outputs": []
    },
    {
      "cell_type": "markdown",
      "metadata": {
        "id": "xneSj5BQlddx"
      },
      "source": [
        "# Summary (10 percent)\n",
        "\n",
        "- Summarise your finding in (about) 300-600 words\n",
        "- You can discuss the following (or you can just be creative)\n",
        "    - Did you find any strong correlation between the demography/political variables with the case/death figures?\n",
        "    - If you did, what do you find? Did it match with the common perception about who is more likely to contract the disease?\n",
        "    - If not, why you think you didn't? Is it because of some data issues? Or something else?"
      ]
    },
    {
      "cell_type": "code",
      "metadata": {
        "id": "yo-5n_4Flsvo"
      },
      "source": [
        ""
      ],
      "execution_count": null,
      "outputs": []
    }
  ]
}