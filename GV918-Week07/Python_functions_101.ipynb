{
  "nbformat": 4,
  "nbformat_minor": 0,
  "metadata": {
    "colab": {
      "name": "Python functions 101.ipynb",
      "provenance": [],
      "collapsed_sections": []
    },
    "kernelspec": {
      "name": "python3",
      "display_name": "Python 3"
    }
  },
  "cells": [
    {
      "cell_type": "markdown",
      "metadata": {
        "id": "0QoZVDq6dijc"
      },
      "source": [
        "# Python functions 101\n",
        "\n",
        "### What is function? (https://www.w3schools.com/python/python_functions.asp)\n",
        "\n",
        "- A function is a block of code which only runs when it is called.\n",
        "- You can pass data, known as parameters, into a function.\n",
        "- A function can return data as a result.\n",
        "\n",
        "\n"
      ]
    },
    {
      "cell_type": "markdown",
      "metadata": {
        "id": "oSDlKKhMeRvx"
      },
      "source": [
        "## a very simple function without argument "
      ]
    },
    {
      "cell_type": "code",
      "metadata": {
        "id": "nw9rfE4Udf2v"
      },
      "source": [
        "def print_hello():\n",
        "  None"
      ],
      "execution_count": 1,
      "outputs": []
    },
    {
      "cell_type": "markdown",
      "metadata": {
        "id": "XiKnkoHKehuD"
      },
      "source": [
        ""
      ]
    },
    {
      "cell_type": "markdown",
      "metadata": {
        "id": "AcXjtSYIei98"
      },
      "source": [
        "## a function with an argument "
      ]
    },
    {
      "cell_type": "code",
      "metadata": {
        "id": "nT47rI-gei9-"
      },
      "source": [
        "def add_2_to_input(num):\n",
        "  None"
      ],
      "execution_count": 3,
      "outputs": []
    },
    {
      "cell_type": "markdown",
      "metadata": {
        "id": "Egfgq7sFehUc"
      },
      "source": [
        "## a very function with two arguments"
      ]
    },
    {
      "cell_type": "code",
      "metadata": {
        "id": "f_pr-y2cegVt"
      },
      "source": [
        "def add_numbers(num1, num2):\n",
        "  None"
      ],
      "execution_count": 2,
      "outputs": []
    },
    {
      "cell_type": "markdown",
      "metadata": {
        "id": "BEbmMOtUfoSE"
      },
      "source": [
        "## a function with two arguments with defaults "
      ]
    },
    {
      "cell_type": "code",
      "metadata": {
        "id": "_9yASq-cfoSF"
      },
      "source": [
        "def add_numbers_with_defaults(num1, num2):\n",
        "  None"
      ],
      "execution_count": null,
      "outputs": []
    },
    {
      "cell_type": "markdown",
      "metadata": {
        "id": "BzvSBJgSgBc-"
      },
      "source": [
        "## a function with arbitrary number of arguments"
      ]
    },
    {
      "cell_type": "code",
      "metadata": {
        "id": "9mw9DEFlgBc_"
      },
      "source": [
        "def sum_numbers_and_multiply(*numbers, multi):\n",
        "  None"
      ],
      "execution_count": 18,
      "outputs": []
    },
    {
      "cell_type": "code",
      "metadata": {
        "id": "MEYqGV9Ve2FF"
      },
      "source": [
        ""
      ],
      "execution_count": null,
      "outputs": []
    }
  ]
}